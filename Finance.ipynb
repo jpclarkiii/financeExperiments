{
 "cells": [
  {
   "cell_type": "code",
   "execution_count": 7,
   "metadata": {
    "collapsed": false
   },
   "outputs": [],
   "source": [
    "%matplotlib notebook\n",
    "#from selenium import webdriver\n",
    "import requests\n",
    "import pandas as pd\n",
    "from StringIO import StringIO\n",
    "import csv\n",
    "import os\n",
    "from dateutil import parser\n",
    "\n",
    "FDIR=os.getenv('FDIR')\n",
    "assert FDIR is not None\n",
    "\n",
    "def downloadSymbols(symbols):\n",
    "\n",
    "    fromday=\"01\"\n",
    "    frommonth=\"00\"\n",
    "    fromyear=\"2006\"\n",
    "    today=\"24\"\n",
    "    tomonth=\"03\"\n",
    "    toyear=\"2016\"\n",
    "\n",
    "    for symbol in symbols:\n",
    "        r=requests.get(\"http://real-chart.finance.yahoo.com/table.csv?s={}&a={}&b={}&c={}&d={}&e={}&f={}&g=d&ignore=.csv\".format(symbol, frommonth, fromday, fromyear, tomonth, today, toyear))\n",
    "        if r.ok:\n",
    "            f=open(FDIR+'/data/{}_{}_{}_{}_{}_{}_{}.csv'.format(symbol, frommonth, fromday, fromyear, tomonth, today, toyear),'w')\n",
    "            f.write(r.content)\n",
    "            f.close()\n",
    "            \n",
    "def loadSymbols(reqsymbols):\n",
    "    rootdir=FDIR+\"/data\"\n",
    "    symbolFiles=os.listdir(rootdir)\n",
    "\n",
    "    symbols={a.split('_')[0]:{\"file\":a, \"data\":[]} for a in symbolFiles if a.split('_')[0] in reqsymbols}\n",
    "    print \"Found {} files, loading symbols: {}\".format(len(symbolFiles), \", \".join(symbols.keys()))\n",
    "\n",
    "    print \"Loading all symbols...\"\n",
    "    for symbol, pkg in symbols.items():\n",
    "        fname=pkg['file']\n",
    "        pkg['data']=pd.read_csv(\"/\".join([rootdir,fname]), index_col=False, parse_dates=[0], infer_datetime_format=True)\n",
    "    return symbols"
   ]
  },
  {
   "cell_type": "code",
   "execution_count": 8,
   "metadata": {
    "collapsed": false
   },
   "outputs": [],
   "source": [
    "rs={\"FRESX\":{'alloc':.2,'min':2500, 'sharesOwned':0}, \n",
    "    \"FEMKX\":{'alloc':.05,'min':2500, 'sharesOwned':0}, \n",
    "    \"FBGRX\":{'alloc':.3,'min':2500, 'sharesOwned':0}, \n",
    "    \"FIGFX\":{'alloc':.15,'min':2500, 'sharesOwned':0}}\n",
    "downloadSymbols(rs.keys())"
   ]
  },
  {
   "cell_type": "code",
   "execution_count": 7,
   "metadata": {
    "collapsed": false
   },
   "outputs": [
    {
     "name": "stdout",
     "output_type": "stream",
     "text": [
      "Found 5 files, loading symbols: FBGRX, FIGFX, FEMKX, FRESX\n",
      "Loading all symbols...\n",
      "FBGRX: 2583\n",
      "FIGFX: 2121\n",
      "FEMKX: 2583\n",
      "FRESX: 2583\n"
     ]
    }
   ],
   "source": [
    "rs=[\"FFFGX\"]\n",
    "rs={\"FRESX\":{'alloc':.2,'min':2500, 'sharesOwned':0}, \n",
    "    \"FEMKX\":{'alloc':.05,'min':2500, 'sharesOwned':0}, \n",
    "    \"FBGRX\":{'alloc':.3,'min':2500, 'sharesOwned':0}, \n",
    "    \"FIGFX\":{'alloc':.15,'min':2500, 'sharesOwned':0}}\n",
    "\n",
    "#TODO: need to assert we have data for each of these symbols or can run simulation\n",
    "\n",
    "## Any two of the following three can be specified but not all three\n",
    "## for now we will assume purchasePerMonth and monthsToBalance are the two specified\n",
    "## purchasePerMonth is the number of purchases that can be made each month\n",
    "## monthsToBalance is the number of months by which we want to have reached balanced allocation\n",
    "purchasePerMonth=3; maxPurchasePerMonth=None; monthsToBalance=3\n",
    "assert maxPurchasePerMonth is None and purchasePerMonth is not None and monthsToBalance is not None\n",
    "\n",
    "## totalAtBalance is the smallest 100% total investment at which each asset class can meet its allocation %\n",
    "totalAtBalance=max([(1.0/v['alloc'])*v['min'] for s,v in rs.items()])\n",
    "\n",
    "## remianingToBalance is the amount this asset class needs to still purchase in order to reach its allocation %\n",
    "for s,v in rs.items():\n",
    "    v['remianingToBalance']=totalAtBalance*(1.0-v['alloc'])\n",
    "\n",
    "## amountAtEachPurchaseToBalance is the amount of this equity that needs to be purchased at each interval to reach\n",
    "## the balanced allocation in the set amount of time\n",
    "for s,v in rs.items():\n",
    "    v['amountAtEachPurchaseToBalance']=totalAtBalance*(1.0-v['alloc'])\n",
    "\n",
    "# for each year\n",
    "# purchase equities to balance within set amount of time\n",
    "# purchase fixed percentage based on allocation after balanced\n",
    "#    maintain running total of shares owned in each equity:\n",
    "#        dollar amount divided by price pershare rounded to nearest share, remaining money should remain in account\n",
    "#        \n",
    "\n",
    "## Need to include bond payouts into assets\n",
    "#downloadSymbols(rs.keys())\n",
    "symbols=loadSymbols(rs.keys())\n",
    "for symbol,pkg in symbols.items():\n",
    "    print \"{}: {}\".format(symbol, len(pkg['data']))\n"
   ]
  },
  {
   "cell_type": "code",
   "execution_count": null,
   "metadata": {
    "collapsed": true
   },
   "outputs": [],
   "source": []
  }
 ],
 "metadata": {
  "kernelspec": {
   "display_name": "Python 2",
   "language": "python",
   "name": "python2"
  },
  "language_info": {
   "codemirror_mode": {
    "name": "ipython",
    "version": 2
   },
   "file_extension": ".py",
   "mimetype": "text/x-python",
   "name": "python",
   "nbconvert_exporter": "python",
   "pygments_lexer": "ipython2",
   "version": "2.7.5"
  }
 },
 "nbformat": 4,
 "nbformat_minor": 0
}
