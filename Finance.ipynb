{
 "cells": [
  {
   "cell_type": "markdown",
   "metadata": {},
   "source": [
    "## Download exchanges"
   ]
  },
  {
   "cell_type": "code",
   "execution_count": null,
   "metadata": {},
   "outputs": [],
   "source": [
    "from exchangeReader import ExchangeReader\n",
    "exr=ExchangeReader()\n",
    "exr.downloadExchangeCompanyList(\"NASDAQ\")\n",
    "# exr.downloadAllExchangeCompanyLists()\n",
    "\n"
   ]
  },
  {
   "cell_type": "markdown",
   "metadata": {},
   "source": [
    "## Find buys"
   ]
  },
  {
   "cell_type": "code",
   "execution_count": 12,
   "metadata": {},
   "outputs": [],
   "source": [
    "from exchangeReader import ExchangeReader\n",
    "import requests\n",
    "import json\n",
    "import pandas as pd\n",
    "\n",
    "exr=ExchangeReader()\n",
    "companies_table = exr.loadExchange(\"NASDAQ\")\n",
    "today = dt.date.today()\n",
    "three_month_td = dt.timedelta(days=90)\n",
    "three_months_back = today - three_month_td\n",
    "from_date = three_months_back.strftime(\"%Y-%m-%d\")\n",
    "to_date = today.strftime(\"%Y-%m-%d\")\n",
    "\n",
    "missed_symbols = []\n",
    "for idx, comp_row in companies.iterrows():\n",
    "    symbol = comp_row[\"symbol\"]\n",
    "    stock_url = \"https://api.nasdaq.com/api/quote/{}/chart?assetclass=stocks&fromdate={}&todate={}\".format(symbol, from_date, to_date)\n",
    "    resp = requests.get(stock_url, headers=exr.headers)\n",
    "    if resp.ok:\n",
    "        stock_response = json.loads(resp.content)\n",
    "        chart = [chart_el[\"z\"] for chart_el in stock_response[\"data\"][\"chart\"]]\n",
    "        pd.DataFrame(chart)\n",
    "    else:\n",
    "        missed_symbols.append(comp_row)\n",
    "\n",
    "len(missed_symbols), len(missed_symbols) / len(companies)\n"
   ]
  },
  {
   "cell_type": "code",
   "execution_count": 2,
   "metadata": {},
   "outputs": [
    {
     "data": {
      "text/plain": [
       "symbol                                                   AACG\n",
       "name         ATA Creativity Global American Depositary Shares\n",
       "lastsale                                               $0.935\n",
       "netchange                                              -0.105\n",
       "pctchange                                            -10.096%\n",
       "volume                                                  14608\n",
       "marketCap                                          29544680.0\n",
       "country                                                 China\n",
       "ipoyear                                                   NaN\n",
       "industry                       Service to the Health Industry\n",
       "sector                                          Miscellaneous\n",
       "url                              /market-activity/stocks/aacg\n",
       "Name: 0, dtype: object"
      ]
     },
     "execution_count": 2,
     "metadata": {},
     "output_type": "execute_result"
    }
   ],
   "source": [
    "companies_table.iloc[0]"
   ]
  },
  {
   "cell_type": "markdown",
   "metadata": {},
   "source": [
    "<h2>Run asset allocation experiement</h2>"
   ]
  },
  {
   "cell_type": "code",
   "execution_count": null,
   "metadata": {},
   "outputs": [],
   "source": [
    "rs=[\"FFFGX\"]\n",
    "rs={\"FRESX\":{'alloc':.2,'min':2500, 'sharesOwned':0, 'amountSpent':0}, \n",
    "    \"FEMKX\":{'alloc':.05,'min':2500, 'sharesOwned':0, 'amountSpent':0}, \n",
    "    \"FBGRX\":{'alloc':.3,'min':2500, 'sharesOwned':0, 'amountSpent':0}, \n",
    "    \"FIGFX\":{'alloc':.15,'min':2500, 'sharesOwned':0, 'amountSpent':0}}\n",
    "\n",
    "loadSymbols(rs)\n",
    "for symbol,pkg in rs.items():\n",
    "    print \"{}: {}\".format(symbol, len(pkg['data']))\n",
    "startDate=max([md['data'].index.min() for md in rs.values()])\n",
    "print \"Earliest data for equities is {}\".format(startDate)\n",
    "months=pd.bdate_range(startDate, dt.date.today(), freq='BMS')\n",
    "    \n",
    "#TODO: need to assert we have data for each of these symbols or can run simulation\n",
    "\n",
    "## Any two of the following three can be specified but not all three\n",
    "## for now we will assume purchasePerMonth and monthsToBalance are the two specified\n",
    "## purchasePerMonth is the number of purchases that can be made each month\n",
    "## monthsToBalance is the number of months by which we want to have reached balanced allocation\n",
    "purchasePerMonth=3; purchaseDays=[7,15,22]; maxPurchasePerMonth=None; monthsToBalance=3; \n",
    "baseInvestPerMonth=1000; balanceInvestPerMonth=0; purchasesTilBalance=0;\n",
    "assert maxPurchasePerMonth is None and (purchasePerMonth is not None or purchaseDays is not None) and monthsToBalance is not None\n",
    "\n",
    "## totalAtBalance is the smallest 100% total investment at which each asset class can meet its allocation %\n",
    "#totalAtBalance=max([(1.0/v['alloc'])*v['min'] for s,v in rs.items()])\n",
    "\n",
    "## remianingToBalance is the amount this asset class needs to still purchase in order to reach its allocation %\n",
    "#for s,v in rs.items():\n",
    "#    v['remianingToBalance']=totalAtBalance*(1.0-v['alloc'])\n",
    "\n",
    "## amountAtEachPurchaseToBalance is the amount of this equity that needs to be purchased at each interval to reach\n",
    "## the balanced allocation in the set amount of time\n",
    "#for s,v in rs.items():\n",
    "#    v['amountAtEachPurchaseToBalance']=totalAtBalance*(1.0-v['alloc'])\n",
    "\n",
    "buyIntoEquities(rs, startDate)\n",
    "purchaseAlloc={equity:item['alloc'] for equity, item in rs.items()}\n",
    "for month in months:\n",
    "    yearStart = Timestamp(month).is_year_start\n",
    "    purchaseDates = [month + DateOffset(days=d) for d in purchaseDays]\n",
    "    for day in purchaseDates:\n",
    "        print \"Buying for month {} and day {}, is year start: {}\".format(month, day, yearStart)\n",
    "        if dateExists(rs, day):\n",
    "            if yearStart:\n",
    "                purchaseAlloc=getPurchaseAlloc(rs, day)\n",
    "                yearStart=False\n",
    "            for equity, item in rs.items():\n",
    "                amount=purchaseAlloc[equity]*float(baseInvestPerMonth)\n",
    "                print \"\\t {} => alloc: {} amount: {}\".format(equity, purchaseAlloc[equity], amount)\n",
    "                purchaseEquity(item, day, amount)\n",
    "        else:\n",
    "            print \"\\t That day did not exist in all equities\"\n",
    "\n",
    "## Need to include bond payouts into assets\n",
    "#downloadSymbols(rs.keys())\n",
    "\n"
   ]
  },
  {
   "cell_type": "code",
   "execution_count": null,
   "metadata": {},
   "outputs": [],
   "source": []
  }
 ],
 "metadata": {
  "kernelspec": {
   "display_name": "Python 3 (ipykernel)",
   "language": "python",
   "name": "python3"
  },
  "language_info": {
   "codemirror_mode": {
    "name": "ipython",
    "version": 3
   },
   "file_extension": ".py",
   "mimetype": "text/x-python",
   "name": "python",
   "nbconvert_exporter": "python",
   "pygments_lexer": "ipython3",
   "version": "3.7.5"
  }
 },
 "nbformat": 4,
 "nbformat_minor": 1
}
